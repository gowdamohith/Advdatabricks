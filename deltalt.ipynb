{
 "cells": [
  {
   "cell_type": "code",
   "execution_count": 0,
   "metadata": {
    "application/vnd.databricks.v1+cell": {
     "cellMetadata": {},
     "inputWidgets": {},
     "nuid": "62780faa-82b7-4f56-967e-2661149fc376",
     "showTitle": false,
     "tableResultSettingsMap": {},
     "title": ""
    }
   },
   "outputs": [],
   "source": [
    "CREATE STREAMING LIVE TABLE sales\n",
    "AS SELECT *,current_timestamp() as ingestion_date FROM cloud_files(\"/Volumes/dlt/default/dlt/sales\", \"csv\");"
   ]
  },
  {
   "cell_type": "code",
   "execution_count": 0,
   "metadata": {
    "application/vnd.databricks.v1+cell": {
     "cellMetadata": {},
     "inputWidgets": {},
     "nuid": "ef8622b6-4e98-4dfd-8257-1997c0de6af2",
     "showTitle": false,
     "tableResultSettingsMap": {},
     "title": ""
    }
   },
   "outputs": [],
   "source": [
    "create streaming table sales_silver\n",
    "(\n",
    " constraint valid_order_id expect (order_id is not null) on violation drop row\n",
    ")\n",
    "as\n",
    "select distinct * from Stream(LIVE.sales)"
   ]
  },
  {
   "cell_type": "code",
   "execution_count": 0,
   "metadata": {
    "application/vnd.databricks.v1+cell": {
     "cellMetadata": {},
     "inputWidgets": {},
     "nuid": "102121ed-24ec-43fb-af5b-26f1ebc72945",
     "showTitle": false,
     "tableResultSettingsMap": {},
     "title": ""
    }
   },
   "outputs": [],
   "source": [
    "CREATE STREAMING LIVE TABLE customers\n",
    "AS SELECT *,current_timestamp() as ingestion_date FROM cloud_files(\"/Volumes/dlt/default/dlt/customers\", \"csv\");"
   ]
  },
  {
   "cell_type": "code",
   "execution_count": 0,
   "metadata": {
    "application/vnd.databricks.v1+cell": {
     "cellMetadata": {},
     "inputWidgets": {},
     "nuid": "8e72a1cc-6716-4d40-b278-c7ce805f462d",
     "showTitle": false,
     "tableResultSettingsMap": {},
     "title": ""
    }
   },
   "outputs": [],
   "source": [
    "CREATE OR REFRESH STREAMING TABLE customer_silver;\n",
    "\n",
    "APPLY CHANGES INTO\n",
    "  live.customer_silver\n",
    "FROM\n",
    "  stream(LIve.customers)\n",
    "KEYS\n",
    "  (customer_id)\n",
    "APPLY AS DELETE WHEN\n",
    "  operation = \"DELETE\"\n",
    "SEQUENCE BY\n",
    "  sequenceNum\n",
    "COLUMNS * EXCEPT\n",
    "  (operation,sequenceNum ,_rescued_data,ingestion_date\n",
    ")\n",
    "STORED AS\n",
    "  SCD TYPE 2;"
   ]
  },
  {
   "cell_type": "code",
   "execution_count": 0,
   "metadata": {
    "application/vnd.databricks.v1+cell": {
     "cellMetadata": {},
     "inputWidgets": {},
     "nuid": "54c56a07-cf51-4e89-8f32-57aa1fa1e941",
     "showTitle": false,
     "tableResultSettingsMap": {},
     "title": ""
    }
   },
   "outputs": [],
   "source": [
    "create streaming table customer_silver_active as \n",
    "select customer_id,customer_name,customer_email,customer_city,customer_state from STREAM(live.customer_silver) where `__END_AT` is null"
   ]
  },
  {
   "cell_type": "code",
   "execution_count": 0,
   "metadata": {
    "application/vnd.databricks.v1+cell": {
     "cellMetadata": {},
     "inputWidgets": {},
     "nuid": "7bd780cd-75ba-4022-8da7-4861b7a8d911",
     "showTitle": false,
     "tableResultSettingsMap": {},
     "title": ""
    }
   },
   "outputs": [],
   "source": [
    "CREATE STREAMING LIVE TABLE products\n",
    "AS SELECT *,current_timestamp() as ingestion_date FROM cloud_files(\"/Volumes/dlt/default/dlt/products\", \"csv\");"
   ]
  },
  {
   "cell_type": "code",
   "execution_count": 0,
   "metadata": {
    "application/vnd.databricks.v1+cell": {
     "cellMetadata": {},
     "inputWidgets": {},
     "nuid": "2a91d1fa-b308-4d34-8db5-a8f0b8f8ff39",
     "showTitle": false,
     "tableResultSettingsMap": {},
     "title": ""
    }
   },
   "outputs": [],
   "source": [
    "-- Create and populate the target table.\n",
    "CREATE OR REFRESH STREAMING TABLE product_silver;\n",
    "\n",
    "APPLY CHANGES INTO\n",
    "  live.product_silver\n",
    "FROM\n",
    "  stream(LIve.products)\n",
    "KEYS\n",
    "  (product_id)\n",
    "APPLY AS DELETE WHEN\n",
    "  operation = \"DELETE\"\n",
    "SEQUENCE BY\n",
    "  seqNum\n",
    "COLUMNS * EXCEPT\n",
    "  (operation,seqNum ,_rescued_data,ingestion_date\n",
    ")\n",
    "STORED AS\n",
    "  SCD TYPE 1;"
   ]
  },
  {
   "cell_type": "code",
   "execution_count": 0,
   "metadata": {
    "application/vnd.databricks.v1+cell": {
     "cellMetadata": {},
     "inputWidgets": {},
     "nuid": "719414f9-94db-43de-8e93-9f26ed02d2b6",
     "showTitle": false,
     "tableResultSettingsMap": {},
     "title": ""
    }
   },
   "outputs": [],
   "source": [
    "create live table total_sales_customer as \n",
    "SELECT \n",
    "    c.customer_id,\n",
    "    c.customer_name,\n",
    "    round(SUM(s.total_amount)) AS total_sales,\n",
    "    SUM(s.discount_amount) AS total_discount\n",
    "FROM LIVE.sales_silver s\n",
    "JOIN LIVE.customer_silver_active c\n",
    "    ON s.customer_id = c.customer_id\n",
    "GROUP BY c.customer_id, c.customer_name\n",
    "ORDER BY total_sales DESC;"
   ]
  },
  {
   "cell_type": "code",
   "execution_count": 0,
   "metadata": {
    "application/vnd.databricks.v1+cell": {
     "cellMetadata": {},
     "inputWidgets": {},
     "nuid": "b21f56de-0c6b-45a4-9826-46159531cb41",
     "showTitle": false,
     "tableResultSettingsMap": {},
     "title": ""
    }
   },
   "outputs": [],
   "source": [
    "create live table total_sales_category as\n",
    "SELECT \n",
    "    p.product_category,\n",
    "    round(SUM(s.total_amount)) AS total_sales\n",
    "FROM LIVE.sales_silver s\n",
    "JOIN live.product_silver p\n",
    "    ON s.product_id = p.product_id\n",
    "GROUP BY p.product_category\n",
    "ORDER BY total_sales DESC;"
   ]
  }
 ],
 "metadata": {
  "application/vnd.databricks.v1+notebook": {
   "computePreferences": null,
   "dashboards": [],
   "environmentMetadata": {
    "base_environment": "",
    "environment_version": "2"
   },
   "language": "sql",
   "notebookMetadata": {
    "mostRecentlyExecutedCommandWithImplicitDF": {
     "commandId": -1,
     "dataframes": [
      "_sqldf"
     ]
    },
    "pythonIndentUnit": 4
   },
   "notebookName": "dlt",
   "widgets": {}
  },
  "language_info": {
   "name": "sql"
  }
 },
 "nbformat": 4,
 "nbformat_minor": 0
}