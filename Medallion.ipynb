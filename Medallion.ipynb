{
 "cells": [
  {
   "cell_type": "code",
   "execution_count": 0,
   "metadata": {
    "application/vnd.databricks.v1+cell": {
     "cellMetadata": {
      "byteLimit": 2048000,
      "rowLimit": 10000
     },
     "inputWidgets": {},
     "nuid": "07c8537f-8069-4015-a939-26b278d1e1de",
     "showTitle": false,
     "tableResultSettingsMap": {},
     "title": ""
    }
   },
   "outputs": [],
   "source": [
    "from pyspark.sql import SparkSession\n",
    "from pyspark.sql.functions import col, current_timestamp, to_date, when"
   ]
  },
  {
   "cell_type": "code",
   "execution_count": 0,
   "metadata": {
    "application/vnd.databricks.v1+cell": {
     "cellMetadata": {
      "byteLimit": 2048000,
      "rowLimit": 10000
     },
     "inputWidgets": {},
     "nuid": "b0ea760e-511e-4e62-9dbb-0d6301269ec5",
     "showTitle": false,
     "tableResultSettingsMap": {},
     "title": ""
    }
   },
   "outputs": [],
   "source": [
    "spark = SparkSession.builder.appName(\"MedallionPipeline\").getOrCreate()"
   ]
  },
  {
   "cell_type": "code",
   "execution_count": 0,
   "metadata": {
    "application/vnd.databricks.v1+cell": {
     "cellMetadata": {
      "byteLimit": 2048000,
      "rowLimit": 10000
     },
     "inputWidgets": {},
     "nuid": "759edb67-aca7-49ba-aa61-cda70a155cc5",
     "showTitle": false,
     "tableResultSettingsMap": {},
     "title": ""
    }
   },
   "outputs": [],
   "source": [
    "raw_data = [\n",
    "    (1, \"rohan\", \"100.50\", \"2023-01-15\", None),\n",
    "    (2, \"rahul\", \"250.75\", \"2023-01-16\", \"NY\"),\n",
    "    (3, \"axar\", \"invalid\", \"2023-01-17\", \"CA\"),\n",
    "    (4, \"Sundar\", \"300.25\", \"invalid_date\", \"TX\")\n",
    "]"
   ]
  },
  {
   "cell_type": "code",
   "execution_count": 0,
   "metadata": {
    "application/vnd.databricks.v1+cell": {
     "cellMetadata": {
      "byteLimit": 2048000,
      "rowLimit": 10000
     },
     "inputWidgets": {},
     "nuid": "110b7487-867c-41db-8582-ee361ce1bdca",
     "showTitle": false,
     "tableResultSettingsMap": {},
     "title": ""
    }
   },
   "outputs": [],
   "source": [
    "bronze_df = spark.createDataFrame(\n",
    "    raw_data, \n",
    "    [\"customer_id\", \"customer_name\", \"transaction_amount\", \"transaction_date\", \"state\"]\n",
    ")"
   ]
  },
  {
   "cell_type": "code",
   "execution_count": 0,
   "metadata": {
    "application/vnd.databricks.v1+cell": {
     "cellMetadata": {
      "byteLimit": 2048000,
      "rowLimit": 10000
     },
     "inputWidgets": {},
     "nuid": "110d2e73-115d-4698-8290-5b43fc69d48f",
     "showTitle": false,
     "tableResultSettingsMap": {},
     "title": ""
    }
   },
   "outputs": [],
   "source": [
    "bronze_df_with_timestamp = bronze_df.withColumn(\"ingestion_timestamp\", current_timestamp())\n",
    "bronze_df_with_timestamp.write.mode(\"overwrite\").format(\"delta\").save(\"/mnt/bronze/customer_transactions\")"
   ]
  },
  {
   "cell_type": "code",
   "execution_count": 0,
   "metadata": {
    "application/vnd.databricks.v1+cell": {
     "cellMetadata": {
      "byteLimit": 2048000,
      "rowLimit": 10000
     },
     "inputWidgets": {},
     "nuid": "c4ab48d2-f3fc-4e62-b427-a2cb7caf46c4",
     "showTitle": false,
     "tableResultSettingsMap": {},
     "title": ""
    }
   },
   "outputs": [],
   "source": [
    "silver_df = spark.read.format(\"delta\").load(\"/mnt/bronze/customer_transactions\")"
   ]
  },
  {
   "cell_type": "code",
   "execution_count": 0,
   "metadata": {
    "application/vnd.databricks.v1+cell": {
     "cellMetadata": {
      "byteLimit": 2048000,
      "rowLimit": 10000
     },
     "inputWidgets": {},
     "nuid": "127e16bf-700d-4ec4-aabe-2f783af4c993",
     "showTitle": false,
     "tableResultSettingsMap": {},
     "title": ""
    }
   },
   "outputs": [],
   "source": [
    "# 2. SILVER LAYER - Data Cleansing and Validation\n",
    "# Read from Bronze\n",
    "silver_df = spark.read.format(\"delta\").load(\"/mnt/bronze/customer_transactions\")\n",
    "\n",
    "# Cleanse and validate data\n",
    "silver_cleaned_df = (silver_df\n",
    "    # Handle invalid amounts\n",
    "    .withColumn(\"transaction_amount_clean\", \n",
    "                when(col(\"transaction_amount\").cast(\"double\").isNotNull(), \n",
    "                     col(\"transaction_amount\").cast(\"double\"))\n",
    "                .otherwise(None))\n",
    "    # Handle invalid dates\n",
    "    .withColumn(\"transaction_date_clean\", \n",
    "                when(col(\"transaction_date\").cast(\"date\").isNotNull(), \n",
    "                     to_date(col(\"transaction_date\"), \"yyyy-MM-dd\"))\n",
    "                .otherwise(None))\n",
    "    # Standardize customer name\n",
    "    .withColumn(\"customer_name_clean\", col(\"customer_name\").cast(\"string\"))\n",
    "    # Select cleaned columns\n",
    "    .select(\n",
    "        \"customer_id\",\n",
    "        \"customer_name_clean\",\n",
    "        \"transaction_amount_clean\",\n",
    "        \"transaction_date_clean\",\n",
    "        \"state\",\n",
    "        \"ingestion_timestamp\"\n",
    "    )\n",
    ")"
   ]
  },
  {
   "cell_type": "code",
   "execution_count": 0,
   "metadata": {
    "application/vnd.databricks.v1+cell": {
     "cellMetadata": {
      "byteLimit": 2048000,
      "rowLimit": 10000
     },
     "inputWidgets": {},
     "nuid": "8bb1cceb-9503-4c7d-81f7-f1df68893d2b",
     "showTitle": false,
     "tableResultSettingsMap": {},
     "title": ""
    }
   },
   "outputs": [],
   "source": [
    "silver_cleaned_df.write.mode(\"overwrite\").format(\"delta\").save(\"/mnt/silver/customer_transactions\")"
   ]
  },
  {
   "cell_type": "code",
   "execution_count": 0,
   "metadata": {
    "application/vnd.databricks.v1+cell": {
     "cellMetadata": {
      "byteLimit": 2048000,
      "rowLimit": 10000
     },
     "inputWidgets": {},
     "nuid": "544662ba-0e77-463c-b1e9-693c7a31f878",
     "showTitle": false,
     "tableResultSettingsMap": {},
     "title": ""
    }
   },
   "outputs": [],
   "source": [
    "# 3. GOLD LAYER - Curated Business-Ready Data\n",
    "# Read from Silver\n",
    "gold_df = spark.read.format(\"delta\").load(\"/mnt/silver/customer_transactions\")"
   ]
  },
  {
   "cell_type": "code",
   "execution_count": 0,
   "metadata": {
    "application/vnd.databricks.v1+cell": {
     "cellMetadata": {
      "byteLimit": 2048000,
      "rowLimit": 10000
     },
     "inputWidgets": {},
     "nuid": "e048b508-bb9a-4258-ba5f-a3ebbf45cd4f",
     "showTitle": false,
     "tableResultSettingsMap": {},
     "title": ""
    }
   },
   "outputs": [],
   "source": [
    "# Create business-ready aggregated view\n",
    "gold_curated_df = (gold_df\n",
    "    .filter(col(\"transaction_amount_clean\").isNotNull() & \n",
    "            col(\"transaction_date_clean\").isNotNull())\n",
    "    .groupBy(\"state\")\n",
    "    .agg({\n",
    "        \"transaction_amount_clean\": \"sum\",\n",
    "        \"customer_id\": \"count\"\n",
    "    })\n",
    "    .withColumnRenamed(\"sum(transaction_amount_clean)\", \"total_transaction_amount\")\n",
    "    .withColumnRenamed(\"count(customer_id)\", \"transaction_count\")\n",
    ")"
   ]
  },
  {
   "cell_type": "code",
   "execution_count": 0,
   "metadata": {
    "application/vnd.databricks.v1+cell": {
     "cellMetadata": {
      "byteLimit": 2048000,
      "rowLimit": 10000
     },
     "inputWidgets": {},
     "nuid": "e4c0ac46-f890-4e56-ba7c-5fe0c9baf6da",
     "showTitle": false,
     "tableResultSettingsMap": {},
     "title": ""
    }
   },
   "outputs": [],
   "source": [
    "# Write to Gold table\n",
    "gold_curated_df.write.mode(\"overwrite\").format(\"delta\").save(\"/mnt/gold/customer_transaction_summary\")"
   ]
  },
  {
   "cell_type": "code",
   "execution_count": 0,
   "metadata": {
    "application/vnd.databricks.v1+cell": {
     "cellMetadata": {
      "byteLimit": 2048000,
      "rowLimit": 10000
     },
     "inputWidgets": {},
     "nuid": "ea5942b7-1cba-46be-9185-58666b56459f",
     "showTitle": false,
     "tableResultSettingsMap": {},
     "title": ""
    }
   },
   "outputs": [
    {
     "output_type": "stream",
     "name": "stdout",
     "output_type": "stream",
     "text": [
      "Bronze Layer (Raw):\n+-----------+-------------+------------------+----------------+-----+--------------------+\n|customer_id|customer_name|transaction_amount|transaction_date|state| ingestion_timestamp|\n+-----------+-------------+------------------+----------------+-----+--------------------+\n|          1|        rohan|            100.50|      2023-01-15| null|2025-03-20 05:04:...|\n|          2|        rahul|            250.75|      2023-01-16|   NY|2025-03-20 05:04:...|\n|          3|         axar|           invalid|      2023-01-17|   CA|2025-03-20 05:04:...|\n|          4|       Sundar|            300.25|    invalid_date|   TX|2025-03-20 05:04:...|\n+-----------+-------------+------------------+----------------+-----+--------------------+\n\n"
     ]
    }
   ],
   "source": [
    "print(\"Bronze Layer (Raw):\")\n",
    "bronze_df_with_timestamp.show()"
   ]
  },
  {
   "cell_type": "code",
   "execution_count": 0,
   "metadata": {
    "application/vnd.databricks.v1+cell": {
     "cellMetadata": {
      "byteLimit": 2048000,
      "rowLimit": 10000
     },
     "inputWidgets": {},
     "nuid": "b61505bf-3f19-41d3-ae72-b37648d2b451",
     "showTitle": false,
     "tableResultSettingsMap": {},
     "title": ""
    }
   },
   "outputs": [
    {
     "output_type": "stream",
     "name": "stdout",
     "output_type": "stream",
     "text": [
      "Silver Layer (Cleansed):\n+-----------+-------------------+------------------------+----------------------+-----+--------------------+\n|customer_id|customer_name_clean|transaction_amount_clean|transaction_date_clean|state| ingestion_timestamp|\n+-----------+-------------------+------------------------+----------------------+-----+--------------------+\n|          4|             Sundar|                  300.25|                  null|   TX|2025-03-20 04:38:...|\n|          3|               axar|                    null|            2023-01-17|   CA|2025-03-20 04:38:...|\n|          2|              rahul|                  250.75|            2023-01-16|   NY|2025-03-20 04:38:...|\n|          1|              rohan|                   100.5|            2023-01-15| null|2025-03-20 04:38:...|\n+-----------+-------------------+------------------------+----------------------+-----+--------------------+\n\n"
     ]
    }
   ],
   "source": [
    "print(\"Silver Layer (Cleansed):\")\n",
    "silver_cleaned_df.show()"
   ]
  },
  {
   "cell_type": "code",
   "execution_count": 0,
   "metadata": {
    "application/vnd.databricks.v1+cell": {
     "cellMetadata": {
      "byteLimit": 2048000,
      "rowLimit": 10000
     },
     "inputWidgets": {},
     "nuid": "229b692b-7508-4f3e-a7bb-818f20143b1b",
     "showTitle": false,
     "tableResultSettingsMap": {},
     "title": ""
    }
   },
   "outputs": [
    {
     "output_type": "stream",
     "name": "stdout",
     "output_type": "stream",
     "text": [
      "Gold Layer (Curated):\n+-----+-----------------+------------------------+\n|state|transaction_count|total_transaction_amount|\n+-----+-----------------+------------------------+\n|   NY|                1|                  250.75|\n| null|                1|                   100.5|\n+-----+-----------------+------------------------+\n\n"
     ]
    }
   ],
   "source": [
    "print(\"Gold Layer (Curated):\")\n",
    "gold_curated_df.show()"
   ]
  }
 ],
 "metadata": {
  "application/vnd.databricks.v1+notebook": {
   "computePreferences": null,
   "dashboards": [],
   "environmentMetadata": {
    "base_environment": "",
    "environment_version": "1"
   },
   "inputWidgetPreferences": null,
   "language": "python",
   "notebookMetadata": {
    "pythonIndentUnit": 4
   },
   "notebookName": "Medallion",
   "widgets": {}
  }
 },
 "nbformat": 4,
 "nbformat_minor": 0
}
