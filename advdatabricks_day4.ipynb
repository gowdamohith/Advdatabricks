{
 "cells": [
  {
   "cell_type": "code",
   "execution_count": 0,
   "metadata": {
    "application/vnd.databricks.v1+cell": {
     "cellMetadata": {
      "byteLimit": 2048000,
      "rowLimit": 10000
     },
     "inputWidgets": {},
     "nuid": "2029a4f0-caf4-48c9-96f8-61455fc87355",
     "showTitle": false,
     "tableResultSettingsMap": {},
     "title": ""
    }
   },
   "outputs": [],
   "source": [
    "from pyspark.sql import SparkSession\n",
    "from pyspark.sql.functions import col, current_timestamp\n"
   ]
  },
  {
   "cell_type": "code",
   "execution_count": 0,
   "metadata": {
    "application/vnd.databricks.v1+cell": {
     "cellMetadata": {
      "byteLimit": 2048000,
      "rowLimit": 10000
     },
     "inputWidgets": {},
     "nuid": "ae9e0515-c414-44b2-83a3-2685331cd742",
     "showTitle": false,
     "tableResultSettingsMap": {},
     "title": ""
    }
   },
   "outputs": [
    {
     "output_type": "stream",
     "name": "stderr",
     "output_type": "stream",
     "text": [
      "INFO:py4j.clientserver:Received command c on object id p0\n"
     ]
    }
   ],
   "source": [
    "spark = SparkSession.builder.appName(\"DailyETLJob\").getOrCreate()"
   ]
  },
  {
   "cell_type": "code",
   "execution_count": 0,
   "metadata": {
    "application/vnd.databricks.v1+cell": {
     "cellMetadata": {
      "byteLimit": 2048000,
      "rowLimit": 10000
     },
     "inputWidgets": {},
     "nuid": "6e1c827c-ba96-48f6-89fd-5f02ef3dced2",
     "showTitle": false,
     "tableResultSettingsMap": {},
     "title": ""
    }
   },
   "outputs": [
    {
     "output_type": "stream",
     "name": "stderr",
     "output_type": "stream",
     "text": [
      "INFO:py4j.clientserver:Received command c on object id p0\n"
     ]
    }
   ],
   "source": [
    "file_path = \"/databricks-datasets/iot/iot_devices.json\"\n",
    "raw_data_df = spark.read.format(\"json\").load(file_path)"
   ]
  },
  {
   "cell_type": "code",
   "execution_count": 0,
   "metadata": {
    "application/vnd.databricks.v1+cell": {
     "cellMetadata": {
      "byteLimit": 2048000,
      "rowLimit": 10000
     },
     "inputWidgets": {},
     "nuid": "c1db2ee6-b844-4839-99c6-e4eeec245f5e",
     "showTitle": false,
     "tableResultSettingsMap": {},
     "title": ""
    }
   },
   "outputs": [
    {
     "output_type": "stream",
     "name": "stderr",
     "output_type": "stream",
     "text": [
      "INFO:py4j.clientserver:Received command c on object id p0\n"
     ]
    }
   ],
   "source": [
    "transformed_df = (raw_data_df\n",
    "    .filter(col(\"device_id\").isNotNull())  # Remove rows with null device_id\n",
    "    .select(\n",
    "        col(\"device_id\"),\n",
    "        col(\"device_name\"),\n",
    "        col(\"temp\").cast(\"float\"),  # Ensure temperature is float\n",
    "        col(\"humidity\").cast(\"float\"),    # Ensure humidity is float\n",
    "        current_timestamp().alias(\"processed_time\")  # Add processing timestamp\n",
    "    )\n",
    "    .dropDuplicates([\"device_id\"])  # Remove duplicate devices\n",
    ")"
   ]
  },
  {
   "cell_type": "code",
   "execution_count": 0,
   "metadata": {
    "application/vnd.databricks.v1+cell": {
     "cellMetadata": {
      "byteLimit": 2048000,
      "rowLimit": 10000
     },
     "inputWidgets": {},
     "nuid": "ec4ac55e-ede6-4cde-a7ec-3e53340b072d",
     "showTitle": false,
     "tableResultSettingsMap": {},
     "title": ""
    }
   },
   "outputs": [
    {
     "output_type": "stream",
     "name": "stderr",
     "output_type": "stream",
     "text": [
      "INFO:py4j.clientserver:Received command c on object id p0\n"
     ]
    }
   ],
   "source": [
    "output_table = \"daily_etl_output\"\n",
    "transformed_df.write.format(\"delta\").mode(\"overwrite\").saveAsTable(output_table)"
   ]
  },
  {
   "cell_type": "code",
   "execution_count": 0,
   "metadata": {
    "application/vnd.databricks.v1+cell": {
     "cellMetadata": {
      "byteLimit": 2048000,
      "rowLimit": 10000
     },
     "inputWidgets": {},
     "nuid": "a8669837-8bc1-45fe-b3a6-1e6d0b2dad71",
     "showTitle": false,
     "tableResultSettingsMap": {},
     "title": ""
    }
   },
   "outputs": [
    {
     "output_type": "stream",
     "name": "stdout",
     "output_type": "stream",
     "text": [
      "+---------+--------------------+----+--------+--------------------+\n|device_id|         device_name|temp|humidity|      processed_time|\n+---------+--------------------+----+--------+--------------------+\n|        7|meter-gauge-7GeDoanM|18.0|    26.0|2025-03-21 05:39:...|\n|       19|meter-gauge-19eg1...|29.0|    75.0|2025-03-21 05:39:...|\n|       22|  sensor-pad-22oWV2D|24.0|    58.0|2025-03-21 05:39:...|\n|       26|sensor-pad-26rAyC...|10.0|    27.0|2025-03-21 05:39:...|\n|       29|meter-gauge-29lyN...|15.0|    69.0|2025-03-21 05:39:...|\n|       31|meter-gauge-31bcR...|11.0|    48.0|2025-03-21 05:39:...|\n|       32|  sensor-pad-329KFvY|19.0|    30.0|2025-03-21 05:39:...|\n|       34|sensor-pad-34F1Ju...|27.0|    89.0|2025-03-21 05:39:...|\n|       43|meter-gauge-43RYo...|12.0|    39.0|2025-03-21 05:39:...|\n|       50|  sensor-pad-50g2ukc|29.0|    69.0|2025-03-21 05:39:...|\n+---------+--------------------+----+--------+--------------------+\n\n"
     ]
    }
   ],
   "source": [
    "spark.sql(f\"SELECT * FROM {output_table} LIMIT 10\").show()"
   ]
  },
  {
   "cell_type": "code",
   "execution_count": 0,
   "metadata": {
    "application/vnd.databricks.v1+cell": {
     "cellMetadata": {
      "byteLimit": 2048000,
      "rowLimit": 10000
     },
     "inputWidgets": {},
     "nuid": "85ea8e20-3821-4b64-874d-9071ed11e548",
     "showTitle": false,
     "tableResultSettingsMap": {},
     "title": ""
    }
   },
   "outputs": [],
   "source": []
  }
 ],
 "metadata": {
  "application/vnd.databricks.v1+notebook": {
   "computePreferences": null,
   "dashboards": [],
   "environmentMetadata": {
    "base_environment": "",
    "environment_version": "1"
   },
   "inputWidgetPreferences": null,
   "language": "python",
   "notebookMetadata": {
    "pythonIndentUnit": 4
   },
   "notebookName": "advdatabricks_day4",
   "widgets": {}
  }
 },
 "nbformat": 4,
 "nbformat_minor": 0
}
