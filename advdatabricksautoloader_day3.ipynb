{
 "cells": [
  {
   "cell_type": "code",
   "execution_count": 0,
   "metadata": {
    "application/vnd.databricks.v1+cell": {
     "cellMetadata": {
      "byteLimit": 2048000,
      "rowLimit": 10000
     },
     "inputWidgets": {},
     "nuid": "ca2fe6aa-0849-40dc-aa1b-49b32e273bf0",
     "showTitle": false,
     "tableResultSettingsMap": {},
     "title": ""
    }
   },
   "outputs": [],
   "source": [
    "from pyspark.sql import SparkSession"
   ]
  },
  {
   "cell_type": "code",
   "execution_count": 0,
   "metadata": {
    "application/vnd.databricks.v1+cell": {
     "cellMetadata": {
      "byteLimit": 2048000,
      "rowLimit": 10000
     },
     "inputWidgets": {},
     "nuid": "c94fc0cd-736e-4e03-846d-0aa046b02156",
     "showTitle": false,
     "tableResultSettingsMap": {},
     "title": ""
    }
   },
   "outputs": [],
   "source": [
    "spark = SparkSession.builder.appName(\"AutoLoaderExample\").getOrCreate()"
   ]
  },
  {
   "cell_type": "code",
   "execution_count": 0,
   "metadata": {
    "application/vnd.databricks.v1+cell": {
     "cellMetadata": {
      "byteLimit": 2048000,
      "rowLimit": 10000
     },
     "inputWidgets": {},
     "nuid": "34f1f313-4452-4d88-bd5f-506aa1814013",
     "showTitle": false,
     "tableResultSettingsMap": {},
     "title": ""
    }
   },
   "outputs": [],
   "source": [
    "input_path = \"/FileStore/tables/\""
   ]
  },
  {
   "cell_type": "code",
   "execution_count": 0,
   "metadata": {
    "application/vnd.databricks.v1+cell": {
     "cellMetadata": {
      "byteLimit": 2048000,
      "rowLimit": 10000
     },
     "inputWidgets": {},
     "nuid": "83100712-b534-4b5d-a3b2-5b78ba4662c7",
     "showTitle": false,
     "tableResultSettingsMap": {},
     "title": ""
    }
   },
   "outputs": [],
   "source": [
    "checkpoint_path = \"/FileStore/checkpoints/autoloader_checkpoint\""
   ]
  },
  {
   "cell_type": "code",
   "execution_count": 0,
   "metadata": {
    "application/vnd.databricks.v1+cell": {
     "cellMetadata": {
      "byteLimit": 2048000,
      "rowLimit": 10000
     },
     "inputWidgets": {},
     "nuid": "56677b08-c7b2-40f3-8a85-59f68817e50b",
     "showTitle": false,
     "tableResultSettingsMap": {},
     "title": ""
    }
   },
   "outputs": [],
   "source": [
    "output_table = \"autoloader_output_table\""
   ]
  },
  {
   "cell_type": "code",
   "execution_count": 0,
   "metadata": {
    "application/vnd.databricks.v1+cell": {
     "cellMetadata": {
      "byteLimit": 2048000,
      "rowLimit": 10000
     },
     "inputWidgets": {},
     "nuid": "6f242e61-46b0-47fc-a999-224d8aa72823",
     "showTitle": false,
     "tableResultSettingsMap": {},
     "title": ""
    }
   },
   "outputs": [],
   "source": [
    "df = (spark.readStream\n",
    "      .format(\"cloudFiles\")  # Use Auto Loader's cloudFiles source\n",
    "      .option(\"cloudFiles.format\", \"csv\")  # Specify the file format\n",
    "      .option(\"header\", \"true\")  # Indicate the CSV has a header\n",
    "      .schema(\"id INT, name STRING, age INT\")  # Define the schema explicitly\n",
    "      .load(input_path))"
   ]
  },
  {
   "cell_type": "code",
   "execution_count": 0,
   "metadata": {
    "application/vnd.databricks.v1+cell": {
     "cellMetadata": {
      "byteLimit": 2048000,
      "rowLimit": 10000
     },
     "inputWidgets": {},
     "nuid": "bd4ee656-aa9b-4e21-8fdb-42130106a0db",
     "showTitle": false,
     "tableResultSettingsMap": {},
     "title": ""
    }
   },
   "outputs": [
    {
     "output_type": "stream",
     "name": "stdout",
     "output_type": "stream",
     "text": [
      "Out[9]: [FileInfo(path='dbfs:/user/hive/warehouse/autoloader_output_table/_delta_log/', name='_delta_log/', size=0, modificationTime=0),\n FileInfo(path='dbfs:/user/hive/warehouse/autoloader_output_table/part-00000-81a1f527-b9d0-4d8f-bc56-cd3b22425457-c000.snappy.parquet', name='part-00000-81a1f527-b9d0-4d8f-bc56-cd3b22425457-c000.snappy.parquet', size=1049, modificationTime=1742443886000),\n FileInfo(path='dbfs:/user/hive/warehouse/autoloader_output_table/part-00000-8c80c3a7-bd4a-443e-92fc-6aba310f7e5b-c000.snappy.parquet', name='part-00000-8c80c3a7-bd4a-443e-92fc-6aba310f7e5b-c000.snappy.parquet', size=956, modificationTime=1742443196000),\n FileInfo(path='dbfs:/user/hive/warehouse/autoloader_output_table/part-00000-aabd7bee-f75d-4b81-be9f-44a35b9f6093-c000.snappy.parquet', name='part-00000-aabd7bee-f75d-4b81-be9f-44a35b9f6093-c000.snappy.parquet', size=112165, modificationTime=1742443208000),\n FileInfo(path='dbfs:/user/hive/warehouse/autoloader_output_table/part-00001-07c88e53-43b4-4b09-8ddb-a28d88505702-c000.snappy.parquet', name='part-00001-07c88e53-43b4-4b09-8ddb-a28d88505702-c000.snappy.parquet', size=112165, modificationTime=1742443208000),\n FileInfo(path='dbfs:/user/hive/warehouse/autoloader_output_table/part-00002-62f9e38b-1f70-4f05-815b-d0e7b16a6eac-c000.snappy.parquet', name='part-00002-62f9e38b-1f70-4f05-815b-d0e7b16a6eac-c000.snappy.parquet', size=115119, modificationTime=1742443208000),\n FileInfo(path='dbfs:/user/hive/warehouse/autoloader_output_table/part-00003-12875d3e-e009-48e9-911f-a35ef29717fa-c000.snappy.parquet', name='part-00003-12875d3e-e009-48e9-911f-a35ef29717fa-c000.snappy.parquet', size=3107, modificationTime=1742443206000),\n FileInfo(path='dbfs:/user/hive/warehouse/autoloader_output_table/part-00004-ef6b90b1-8839-4823-a336-c50d673efc0b-c000.snappy.parquet', name='part-00004-ef6b90b1-8839-4823-a336-c50d673efc0b-c000.snappy.parquet', size=1214, modificationTime=1742443207000),\n FileInfo(path='dbfs:/user/hive/warehouse/autoloader_output_table/part-00005-03aebc93-6289-41a7-a1f7-2f0b774a7ee7-c000.snappy.parquet', name='part-00005-03aebc93-6289-41a7-a1f7-2f0b774a7ee7-c000.snappy.parquet', size=1214, modificationTime=1742443207000),\n FileInfo(path='dbfs:/user/hive/warehouse/autoloader_output_table/part-00006-f2905991-157a-4423-b5e9-ec9803b99b57-c000.snappy.parquet', name='part-00006-f2905991-157a-4423-b5e9-ec9803b99b57-c000.snappy.parquet', size=1046, modificationTime=1742443206000)]"
     ]
    }
   ],
   "source": [
    "dbutils.fs.ls(\"dbfs:/user/hive/warehouse/autoloader_output_table\")"
   ]
  },
  {
   "cell_type": "code",
   "execution_count": 0,
   "metadata": {
    "application/vnd.databricks.v1+cell": {
     "cellMetadata": {
      "byteLimit": 2048000,
      "rowLimit": 10000
     },
     "inputWidgets": {},
     "nuid": "5a5a4515-42b4-42e7-a667-190d3bcc05f6",
     "showTitle": false,
     "tableResultSettingsMap": {},
     "title": ""
    }
   },
   "outputs": [
    {
     "output_type": "stream",
     "name": "stdout",
     "output_type": "stream",
     "text": [
      "Out[10]: True"
     ]
    }
   ],
   "source": [
    "dbutils.fs.rm(\"dbfs:/user/hive/warehouse/autoloader_output_table\", recurse=True)"
   ]
  },
  {
   "cell_type": "code",
   "execution_count": 0,
   "metadata": {
    "application/vnd.databricks.v1+cell": {
     "cellMetadata": {
      "byteLimit": 2048000,
      "rowLimit": 10000
     },
     "inputWidgets": {},
     "nuid": "169b518a-a9e1-478d-8f93-bd270ff5999f",
     "showTitle": false,
     "tableResultSettingsMap": {},
     "title": ""
    }
   },
   "outputs": [],
   "source": [
    "checkpoint_path = \"dbfs:/checkpoint/autoloader_output_table\""
   ]
  },
  {
   "cell_type": "code",
   "execution_count": 0,
   "metadata": {
    "application/vnd.databricks.v1+cell": {
     "cellMetadata": {
      "byteLimit": 2048000,
      "rowLimit": 10000
     },
     "inputWidgets": {},
     "nuid": "67b7fa61-f738-42d7-b45a-e24b5d6a5687",
     "showTitle": false,
     "tableResultSettingsMap": {},
     "title": ""
    }
   },
   "outputs": [],
   "source": [
    "query = (df.writeStream\n",
    "         .format(\"delta\")\n",
    "         .option(\"checkpointLocation\", checkpoint_path)\n",
    "         .outputMode(\"append\")\n",
    "         .table(\"autoloader_output_table\"))"
   ]
  }
 ],
 "metadata": {
  "application/vnd.databricks.v1+notebook": {
   "computePreferences": null,
   "dashboards": [],
   "environmentMetadata": {
    "base_environment": "",
    "environment_version": "1"
   },
   "inputWidgetPreferences": null,
   "language": "python",
   "notebookMetadata": {
    "pythonIndentUnit": 4
   },
   "notebookName": "advdatabricks_day3",
   "widgets": {}
  }
 },
 "nbformat": 4,
 "nbformat_minor": 0
}
